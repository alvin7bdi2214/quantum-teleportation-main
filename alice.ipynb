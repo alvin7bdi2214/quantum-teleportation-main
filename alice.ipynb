{
 "metadata": {
  "language_info": {
   "codemirror_mode": {
    "name": "ipython",
    "version": 3
   },
   "file_extension": ".py",
   "mimetype": "text/x-python",
   "name": "python",
   "nbconvert_exporter": "python",
   "pygments_lexer": "ipython3",
   "version": "3.9.0-final"
  },
  "orig_nbformat": 2,
  "kernelspec": {
   "name": "Python 3.9.0 64-bit",
   "display_name": "Python 3.9.0 64-bit",
   "metadata": {
    "interpreter": {
     "hash": "e61b7ab4505302359a909363ae8725adc9de11951081681a7a9a94a00f7478a9"
    }
   }
  }
 },
 "nbformat": 4,
 "nbformat_minor": 2,
 "cells": [
  {
   "cell_type": "code",
   "execution_count": null,
   "metadata": {},
   "outputs": [],
   "source": [
    "#reference\n",
    "\n",
    "\"\"\"def fn1():\n",
    "    print \"One\"\n",
    "\n",
    "def fn2():\n",
    "    print \"Two\"\n",
    "\n",
    "def fn3():\n",
    "    print \"Three\"\n",
    "\n",
    "fndict = {\"A\": fn1, \"B\": fn2, \"C\": fn3}\n",
    "\n",
    "keynames = [\"A\", \"B\", \"C\"]\n",
    "\n",
    "fndict[keynames[1]]()\"\"\"\n",
    "# keynames[1] = \"B\", so output of this code is\n",
    "\n",
    "# Two"
   ]
  },
  {
   "cell_type": "code",
   "execution_count": 1,
   "metadata": {},
   "outputs": [
    {
     "output_type": "stream",
     "name": "stdout",
     "text": [
      "Desired length random binary string is:  ['0', '0', '0', '1', '0', '0', '0', '0']\n"
     ]
    }
   ],
   "source": [
    "import random\n",
    "import numpy as np\n",
    "\n",
    "# Function to create the random binary string \n",
    "def rand_key(p): \n",
    "\t\n",
    "\t# Variable to store the string \n",
    "\tkey1 = []\n",
    "\n",
    "\t# Loop to find the string of desired length \n",
    "\tfor i in range(p): \n",
    "\t\t\n",
    "\t\t# randint function to generate \n",
    "\t\t# 0, 1 randomly and converting the result into str \n",
    "\t\ttemp = str(random.randint(0,1)) \n",
    "\n",
    "\t\t# Concatenation the random 0, 1 to the final result \n",
    "\t\tkey1 += temp \n",
    "\t\t\n",
    "\treturn(key1)\n",
    "\n",
    "# Driver Code \n",
    "n = 8\n",
    "str1 = rand_key(n) \n",
    "print(\"Desired length random binary string is: \", str1) "
   ]
  },
  {
   "cell_type": "code",
   "execution_count": null,
   "metadata": {},
   "outputs": [],
   "source": [
    "#user input binary string\n",
    "\n",
    "\"\"\"\n",
    "byte = []\n",
    "\n",
    "n = int(input(\"number of digits: \"))\n",
    "for i in range(0,n):\n",
    "    ele = int(input())\n",
    "\n",
    "    byte.append(ele)\n",
    "\n",
    "print(byte)\n",
    "\"\"\""
   ]
  },
  {
   "cell_type": "code",
   "execution_count": 2,
   "metadata": {},
   "outputs": [],
   "source": [
    "#state of particles\n",
    "down = np.array([[0], [1]])\n",
    "up = np.array([[1], [0]])"
   ]
  },
  {
   "cell_type": "code",
   "execution_count": 3,
   "metadata": {},
   "outputs": [],
   "source": [
    "#change up state in v+, v-\n",
    "x = np.where((up==0) | (up==1), up^1, up)"
   ]
  },
  {
   "cell_type": "code",
   "execution_count": 4,
   "metadata": {},
   "outputs": [],
   "source": [
    "#change up state in u+, u- && down state in u-\n",
    "def convert(lst):\n",
    "    return [-i for i in lst]"
   ]
  },
  {
   "cell_type": "code",
   "execution_count": 5,
   "metadata": {},
   "outputs": [],
   "source": [
    "#change down state in v-\n",
    "x = np.where((down==0) | (down==1), down^1, down)"
   ]
  },
  {
   "cell_type": "code",
   "execution_count": 6,
   "metadata": {},
   "outputs": [],
   "source": [
    "#change down state in v+\n",
    "x = np.where((down==0) | (down==1), down^1, down)\n",
    "def convert(lst):\n",
    "    return [-i for i in lst]"
   ]
  },
  {
   "cell_type": "code",
   "execution_count": 7,
   "metadata": {},
   "outputs": [],
   "source": [
    "#change down state in u+\n",
    "from copy import deepcopy\n",
    "a = deepcopy(down)"
   ]
  },
  {
   "cell_type": "code",
   "execution_count": 8,
   "metadata": {},
   "outputs": [
    {
     "output_type": "execute_result",
     "data": {
      "text/plain": [
       "'\\nstr_len = 8\\nsample_letters = \\'abcd\\'\\nresult_str = \\'\\'.join((random.choice(sample_letters) for i in range(str_len)))\\n\\nprint(\"Random string is:\", result_str)\\n'"
      ]
     },
     "metadata": {},
     "execution_count": 8
    }
   ],
   "source": [
    "#list with a certain length of str_len\n",
    "\"\"\"\n",
    "str_len = 8\n",
    "sample_letters = 'abcd'\n",
    "result_str = ''.join((random.choice(sample_letters) for i in range(str_len)))\n",
    "\n",
    "print(\"Random string is:\", result_str)\n",
    "\"\"\""
   ]
  },
  {
   "cell_type": "code",
   "execution_count": 9,
   "metadata": {},
   "outputs": [],
   "source": [
    "from operator import itemgetter\n",
    "\n",
    "equal_to = {\"a\":\"u_plus\", \"b\":\"u_minus\", \"c\":\"v_plus\", \"d\":\"v_minus\"}\n",
    "\n",
    "def find_epr_state():\n",
    "    \n",
    "    sample_letters = 'abcd'\n",
    "    count = 0\n",
    "    tmplist2 = []\n",
    "\n",
    "    while True:\n",
    "        attempt = random.choice(sample_letters)\n",
    "        tmplist2.append(attempt)\n",
    "\n",
    "        if attempt == \"b\":\n",
    "            break\n",
    "\n",
    "        count += 1\n",
    "\n",
    "    #print(tmplist2)\n",
    "    #print(\"EPR state occurs after \" + str(count) + \" attempt(s).\")\n",
    "\n",
    "    #res_list = list(itemgetter(*tmplist2)(equal_to))\n",
    "    #print(str(res_list))"
   ]
  },
  {
   "cell_type": "code",
   "execution_count": 19,
   "metadata": {},
   "outputs": [
    {
     "output_type": "error",
     "ename": "SyntaxError",
     "evalue": "invalid syntax (<ipython-input-19-561abb1ddbfd>, line 3)",
     "traceback": [
      "\u001b[1;36m  File \u001b[1;32m\"<ipython-input-19-561abb1ddbfd>\"\u001b[1;36m, line \u001b[1;32m3\u001b[0m\n\u001b[1;33m    if (str1 == 1 and tmplist2 == \"a\") or\u001b[0m\n\u001b[1;37m                                          ^\u001b[0m\n\u001b[1;31mSyntaxError\u001b[0m\u001b[1;31m:\u001b[0m invalid syntax\n"
     ]
    }
   ],
   "source": [
    "#create logic gate\n",
    "def print_one():\n",
    "    if (str1 == 1 and tmplist2 == \"a\") or \n",
    "    (str1 == 1 and tmplist2 == \"b\") or \n",
    "    (str1 == 0 and tmplist2 == \"c\") or \n",
    "    (str1 == 0 and tmplist2 == \"d\"):\n",
    "        print(int(1))\n",
    "\n",
    "def print_zero():\n",
    "    elif (str1 == 1 and tmplist2 == \"c\") or \n",
    "    (str1 == 1 and tmplist2 == \"d\") or \n",
    "    (str1 == 0 and tmplist2 == \"a\") or \n",
    "    (str1 == 0 and tmplist2 == \"b\"):\n",
    "        print(int(0))"
   ]
  },
  {
   "cell_type": "code",
   "execution_count": null,
   "metadata": {},
   "outputs": [],
   "source": []
  }
 ]
}