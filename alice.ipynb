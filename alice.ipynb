{
 "metadata": {
  "language_info": {
   "codemirror_mode": {
    "name": "ipython",
    "version": 3
   },
   "file_extension": ".py",
   "mimetype": "text/x-python",
   "name": "python",
   "nbconvert_exporter": "python",
   "pygments_lexer": "ipython3",
   "version": "3.7.4-final"
  },
  "orig_nbformat": 2,
  "kernelspec": {
   "name": "Python 3.7.4 64-bit (conda)",
   "display_name": "Python 3.7.4 64-bit (conda)",
   "metadata": {
    "interpreter": {
     "hash": "7619e392bf5add73cfb180f7a7ac8e13228e30563da53b10706ece27520467dd"
    }
   }
  }
 },
 "nbformat": 4,
 "nbformat_minor": 2,
 "cells": [
  {
   "cell_type": "code",
   "execution_count": 2,
   "metadata": {},
   "outputs": [
    {
     "output_type": "execute_result",
     "data": {
      "text/plain": [
       "'def fn1():\\n    print \"One\"\\n\\ndef fn2():\\n    print \"Two\"\\n\\ndef fn3():\\n    print \"Three\"\\n\\nfndict = {\"A\": fn1, \"B\": fn2, \"C\": fn3}\\n\\nkeynames = [\"A\", \"B\", \"C\"]\\n\\nfndict[keynames[1]]()'"
      ]
     },
     "metadata": {},
     "execution_count": 2
    }
   ],
   "source": [
    "#reference\n",
    "\n",
    "\"\"\"def fn1():\n",
    "    print \"One\"\n",
    "\n",
    "def fn2():\n",
    "    print \"Two\"\n",
    "\n",
    "def fn3():\n",
    "    print \"Three\"\n",
    "\n",
    "fndict = {\"A\": fn1, \"B\": fn2, \"C\": fn3}\n",
    "\n",
    "keynames = [\"A\", \"B\", \"C\"]\n",
    "\n",
    "fndict[keynames[1]]()\"\"\"\n",
    "# keynames[1] = \"B\", so output of this code is\n",
    "\n",
    "# Two"
   ]
  },
  {
   "cell_type": "code",
   "execution_count": 3,
   "metadata": {},
   "outputs": [
    {
     "output_type": "stream",
     "name": "stdout",
     "text": [
      "Desired length random binary string is:  ['1', '0', '1']\n"
     ]
    }
   ],
   "source": [
    "import random\n",
    "import numpy as np\n",
    "\n",
    "# Function to create the random binary string \n",
    "def rand_key(p): \n",
    "\t\n",
    "\t# Variable to store the string \n",
    "\tkey1 = []\n",
    "\n",
    "\t# Loop to find the string of desired length \n",
    "\tfor i in range(p): \n",
    "\t\t\n",
    "\t\t# randint function to generate \n",
    "\t\t# 0, 1 randomly and converting the result into str \n",
    "\t\ttemp = str(random.randint(0,1)) \n",
    "\n",
    "\t\t# Concatenation the random 0, 1 to the final result \n",
    "\t\tkey1 += temp \n",
    "\t\t\n",
    "\treturn(key1)\n",
    "\n",
    "# Driver Code \n",
    "n = 3\n",
    "str1 = rand_key(n) \n",
    "print(\"Desired length random binary string is: \", str1) "
   ]
  },
  {
   "cell_type": "code",
   "execution_count": 4,
   "metadata": {},
   "outputs": [
    {
     "output_type": "execute_result",
     "data": {
      "text/plain": [
       "'byte = []\\n\\nn = int(input(\"number of digits: \"))\\nfor i in range(0,n):\\n    ele = int(input())\\n\\n    byte.append(ele)\\n\\nprint(byte)'"
      ]
     },
     "metadata": {},
     "execution_count": 4
    }
   ],
   "source": [
    "\"\"\"byte = []\n",
    "\n",
    "n = int(input(\"number of digits: \"))\n",
    "for i in range(0,n):\n",
    "    ele = int(input())\n",
    "\n",
    "    byte.append(ele)\n",
    "\n",
    "print(byte)\"\"\""
   ]
  },
  {
   "cell_type": "code",
   "execution_count": 5,
   "metadata": {},
   "outputs": [],
   "source": [
    "#state of particles\n",
    "\n",
    "down = np.array([[0], [1]])\n",
    "up = np.array([[1], [0]])"
   ]
  },
  {
   "cell_type": "code",
   "execution_count": 6,
   "metadata": {},
   "outputs": [],
   "source": [
    "#change up state in v+, v-\n",
    "x = np.where((up==0) | (up==1), up^1, up)"
   ]
  },
  {
   "cell_type": "code",
   "execution_count": 7,
   "metadata": {},
   "outputs": [],
   "source": [
    "#change up state in u+, u- && down state in u-\n",
    "def convert(lst):\n",
    "    return [-i for i in lst]"
   ]
  },
  {
   "cell_type": "code",
   "execution_count": 8,
   "metadata": {},
   "outputs": [],
   "source": [
    "#change down state in v-\n",
    "x = np.where((down==0) | (down==1), down^1, down)"
   ]
  },
  {
   "cell_type": "code",
   "execution_count": 9,
   "metadata": {},
   "outputs": [],
   "source": [
    "#change down state in v+\n",
    "x = np.where((down==0) | (down==1), down^1, down)\n",
    "def convert(lst):\n",
    "    return [-i for i in lst]"
   ]
  },
  {
   "cell_type": "code",
   "execution_count": 10,
   "metadata": {},
   "outputs": [],
   "source": [
    "#change down state in u+\n",
    "from copy import deepcopy\n",
    "a = deepcopy(down)"
   ]
  },
  {
   "cell_type": "code",
   "execution_count": 19,
   "metadata": {},
   "outputs": [
    {
     "output_type": "stream",
     "name": "stdout",
     "text": [
      "Random string is: abcbccca\n"
     ]
    }
   ],
   "source": [
    "#working on conditional statements\n",
    "\n",
    "str_len = 8\n",
    "sample_letters = 'abcd'\n",
    "result_str = ''.join((random.choice(sample_letters) for i in range(str_len)))\n",
    "\n",
    "print(\"Random string is:\", result_str)"
   ]
  },
  {
   "cell_type": "code",
   "execution_count": 20,
   "metadata": {},
   "outputs": [
    {
     "output_type": "stream",
     "name": "stdout",
     "text": [
      "['b', 'b', 'b', 'b', 'b', 'b', 'a', 'a']\n['u_minus', 'u_minus', 'u_minus', 'u_minus', 'u_minus', 'u_minus', 'u_plus', 'u_plus']\n"
     ]
    }
   ],
   "source": [
    "from operator import itemgetter\n",
    "equal_to = {\"a\":\"u_plus\", \"b\":\"u_minus\", \"c\":\"v_plus\", \"d\":\"v_minus\"}\n",
    "\n",
    "\n",
    "tmplist = []\n",
    "for _ in range(str_len):\n",
    "    p1 = random.choice(sample_letters)\n",
    "    tmplist.append(p1)\n",
    "print(tmplist)\n",
    "\n",
    "res_list = list(itemgetter(*tmplist)(equal_to))\n",
    "print(str(res_list))"
   ]
  },
  {
   "cell_type": "code",
   "execution_count": 13,
   "metadata": {
    "tags": []
   },
   "outputs": [
    {
     "output_type": "execute_result",
     "data": {
      "text/plain": [
       "'\\nt = \"b\"\\nmy_attemptthis = list(random.choice(sample_letters))\\nfor i in range(len(t)):\\n    my_attemptnext = \\'\\'\\ncom = False\\niteration = 0\\n\\nwhile com == False:\\n    print(my_attemptthis)\\n    my_attemptnext = \\'\\'\\n    com == True\\n\\n    for i in range(len(t)):\\n        if my_attemptthis[i] != t:\\n            com = False\\n            my_attemptnext += random.choice(sample_letters)\\n        else:\\n            my_attemptnext += t\\n\\n\\n    iteration += 1\\n    my_attemptthis = my_attemptnext\\n\\nprint(\"target matched after\"+ str(iteration) + \"iterations.\")\\n'"
      ]
     },
     "metadata": {},
     "execution_count": 13
    }
   ],
   "source": [
    "#INFINITE LOOP do not run!\n",
    "\"\"\"\n",
    "t = \"b\"\n",
    "my_attemptthis = list(random.choice(sample_letters))\n",
    "for i in range(len(t)):\n",
    "    my_attemptnext = ''\n",
    "com = False\n",
    "iteration = 0\n",
    "\n",
    "while com == False:\n",
    "    print(my_attemptthis)\n",
    "    my_attemptnext = ''\n",
    "    com == True\n",
    "\n",
    "    for i in range(len(t)):\n",
    "        if my_attemptthis[i] != t:\n",
    "            com = False\n",
    "            my_attemptnext += random.choice(sample_letters)\n",
    "        else:\n",
    "            my_attemptnext += t\n",
    "\n",
    "\n",
    "    iteration += 1\n",
    "    my_attemptthis = my_attemptnext\n",
    "\n",
    "print(\"target matched after\"+ str(iteration) + \"iterations.\")\n",
    "\"\"\""
   ]
  },
  {
   "cell_type": "code",
   "execution_count": 2,
   "metadata": {},
   "outputs": [
    {
     "output_type": "error",
     "ename": "NameError",
     "evalue": "name 'random' is not defined",
     "traceback": [
      "\u001b[1;31m---------------------------------------------------------------------------\u001b[0m",
      "\u001b[1;31mNameError\u001b[0m                                 Traceback (most recent call last)",
      "\u001b[1;32m<ipython-input-2-57bb8a968523>\u001b[0m in \u001b[0;36m<module>\u001b[1;34m\u001b[0m\n\u001b[0;32m      3\u001b[0m \u001b[1;33m\u001b[0m\u001b[0m\n\u001b[0;32m      4\u001b[0m \u001b[1;32mwhile\u001b[0m \u001b[1;32mTrue\u001b[0m\u001b[1;33m:\u001b[0m\u001b[1;33m\u001b[0m\u001b[1;33m\u001b[0m\u001b[0m\n\u001b[1;32m----> 5\u001b[1;33m     \u001b[0mattempt\u001b[0m \u001b[1;33m=\u001b[0m \u001b[0mrandom\u001b[0m\u001b[1;33m.\u001b[0m\u001b[0mchoice\u001b[0m\u001b[1;33m(\u001b[0m\u001b[0msample_letters\u001b[0m\u001b[1;33m)\u001b[0m\u001b[1;33m\u001b[0m\u001b[1;33m\u001b[0m\u001b[0m\n\u001b[0m\u001b[0;32m      6\u001b[0m     \u001b[0mtmplist2\u001b[0m\u001b[1;33m.\u001b[0m\u001b[0mappend\u001b[0m\u001b[1;33m(\u001b[0m\u001b[0mattempt\u001b[0m\u001b[1;33m)\u001b[0m\u001b[1;33m\u001b[0m\u001b[1;33m\u001b[0m\u001b[0m\n\u001b[0;32m      7\u001b[0m \u001b[1;33m\u001b[0m\u001b[0m\n",
      "\u001b[1;31mNameError\u001b[0m: name 'random' is not defined"
     ]
    }
   ],
   "source": [
    "iter = 0\n",
    "tmplist2 = []\n",
    "\n",
    "while True:\n",
    "    attempt = random.choice(sample_letters)\n",
    "    tmplist2.append(attempt)\n",
    "\n",
    "    if tmplist2[iter] == \"b\":\n",
    "        break\n",
    "    else:\n",
    "        pass\n",
    "print(tmplist2)"
   ]
  },
  {
   "cell_type": "code",
   "execution_count": null,
   "metadata": {},
   "outputs": [],
   "source": []
  }
 ]
}