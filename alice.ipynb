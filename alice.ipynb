{
 "metadata": {
  "language_info": {
   "codemirror_mode": {
    "name": "ipython",
    "version": 3
   },
   "file_extension": ".py",
   "mimetype": "text/x-python",
   "name": "python",
   "nbconvert_exporter": "python",
   "pygments_lexer": "ipython3",
   "version": "3.7.4-final"
  },
  "orig_nbformat": 2,
  "kernelspec": {
   "name": "python3",
   "display_name": "Python 3"
  }
 },
 "nbformat": 4,
 "nbformat_minor": 2,
 "cells": [
  {
   "cell_type": "code",
   "execution_count": 53,
   "metadata": {},
   "outputs": [
    {
     "output_type": "stream",
     "name": "stdout",
     "text": [
      "Desired length random binary string is:  ['0', '0', '1', '1', '0', '1', '0', '1']\n"
     ]
    }
   ],
   "source": [
    "import random\n",
    "import numpy as np\n",
    "\n",
    "# Function to create the random binary string \n",
    "def rand_key(p): \n",
    "\t\n",
    "\t# Variable to store the string \n",
    "\tkey1 = []\n",
    "\n",
    "\t# Loop to find the string of desired length \n",
    "\tfor i in range(p): \n",
    "\t\t\n",
    "\t\t# randint function to generate \n",
    "\t\t# 0, 1 randomly and converting the result into str \n",
    "\t\ttemp = str(random.randint(0,1)) \n",
    "\n",
    "\t\t# Concatenation the random 0, 1 to the final result \n",
    "\t\tkey1 += temp \n",
    "\t\t\n",
    "\treturn(key1)\n",
    "\n",
    "# Driver Code \n",
    "n = 8\n",
    "str1 = rand_key(n) \n",
    "print(\"Desired length random binary string is: \", str1) "
   ]
  },
  {
   "cell_type": "code",
   "execution_count": 45,
   "metadata": {},
   "outputs": [],
   "source": [
    "#state of particles\n",
    "\n",
    "down = np.array([[0], [1]])\n",
    "up = np.array([[1], [0]])"
   ]
  },
  {
   "cell_type": "code",
   "execution_count": 51,
   "metadata": {},
   "outputs": [],
   "source": [
    "#change up state in v+, v-\n",
    "x = np.where((up==0) | (up==1), up^1, up)"
   ]
  },
  {
   "cell_type": "code",
   "execution_count": 47,
   "metadata": {},
   "outputs": [],
   "source": [
    "#change up state in u+, u- && down state in u-\n",
    "def convert(lst):\n",
    "    return [-i for i in lst]"
   ]
  },
  {
   "cell_type": "code",
   "execution_count": 48,
   "metadata": {},
   "outputs": [],
   "source": [
    "#change down state in v-\n",
    "x = np.where((down==0) | (down==1), down^1, down)"
   ]
  },
  {
   "cell_type": "code",
   "execution_count": 49,
   "metadata": {},
   "outputs": [],
   "source": [
    "#change down state in v+\n",
    "x = np.where((down==0) | (down==1), down^1, down)\n",
    "def convert(lst):\n",
    "    return [-i for i in lst]"
   ]
  },
  {
   "cell_type": "code",
   "execution_count": 50,
   "metadata": {},
   "outputs": [],
   "source": [
    "#change down state in u+\n",
    "from copy import deepcopy\n",
    "a = deepcopy(down)"
   ]
  },
  {
   "cell_type": "code",
   "execution_count": 57,
   "metadata": {},
   "outputs": [
    {
     "output_type": "error",
     "ename": "SyntaxError",
     "evalue": "invalid syntax (<ipython-input-57-b3b5314c0622>, line 6)",
     "traceback": [
      "\u001b[1;36m  File \u001b[1;32m\"<ipython-input-57-b3b5314c0622>\"\u001b[1;36m, line \u001b[1;32m6\u001b[0m\n\u001b[1;33m    print(val1[])\u001b[0m\n\u001b[1;37m               ^\u001b[0m\n\u001b[1;31mSyntaxError\u001b[0m\u001b[1;31m:\u001b[0m invalid syntax\n"
     ]
    }
   ],
   "source": [
    "val = input(\"input 8 digits of binary: \")\n",
    "val1[8] = val\n",
    "\n",
    "\n",
    "\n",
    "print(val1[])"
   ]
  },
  {
   "cell_type": "code",
   "execution_count": 62,
   "metadata": {},
   "outputs": [
    {
     "output_type": "stream",
     "name": "stdout",
     "text": [
      "[0, 1, 0, 1, 0, 0]\n"
     ]
    }
   ],
   "source": [
    "byte = []\n",
    "\n",
    "n = int(input(\"number of digits: \"))\n",
    "for i in range(0,n):\n",
    "    ele = int(input())\n",
    "\n",
    "    byte.append(ele)\n",
    "\n",
    "print(byte)"
   ]
  }
 ]
}