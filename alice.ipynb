{
 "metadata": {
  "language_info": {
   "codemirror_mode": {
    "name": "ipython",
    "version": 3
   },
   "file_extension": ".py",
   "mimetype": "text/x-python",
   "name": "python",
   "nbconvert_exporter": "python",
   "pygments_lexer": "ipython3",
   "version": "3.9.0-final"
  },
  "orig_nbformat": 2,
  "kernelspec": {
   "name": "Python 3.9.0 64-bit",
   "display_name": "Python 3.9.0 64-bit",
   "metadata": {
    "interpreter": {
     "hash": "e61b7ab4505302359a909363ae8725adc9de11951081681a7a9a94a00f7478a9"
    }
   }
  }
 },
 "nbformat": 4,
 "nbformat_minor": 2,
 "cells": [
  {
   "cell_type": "code",
   "execution_count": 1,
   "metadata": {},
   "outputs": [
    {
     "output_type": "execute_result",
     "data": {
      "text/plain": [
       "'def fn1():\\n    print \"One\"\\n\\ndef fn2():\\n    print \"Two\"\\n\\ndef fn3():\\n    print \"Three\"\\n\\nfndict = {\"A\": fn1, \"B\": fn2, \"C\": fn3}\\n\\nkeynames = [\"A\", \"B\", \"C\"]\\n\\nfndict[keynames[1]]()'"
      ]
     },
     "metadata": {},
     "execution_count": 1
    }
   ],
   "source": [
    "#reference\n",
    "\n",
    "\"\"\"def fn1():\n",
    "    print \"One\"\n",
    "\n",
    "def fn2():\n",
    "    print \"Two\"\n",
    "\n",
    "def fn3():\n",
    "    print \"Three\"\n",
    "\n",
    "fndict = {\"A\": fn1, \"B\": fn2, \"C\": fn3}\n",
    "\n",
    "keynames = [\"A\", \"B\", \"C\"]\n",
    "\n",
    "fndict[keynames[1]]()\"\"\"\n",
    "# keynames[1] = \"B\", so output of this code is\n",
    "\n",
    "# Two"
   ]
  },
  {
   "cell_type": "code",
   "execution_count": 2,
   "metadata": {},
   "outputs": [
    {
     "output_type": "stream",
     "name": "stdout",
     "text": [
      "Desired length random binary string is:  ['0', '0', '0']\n"
     ]
    }
   ],
   "source": [
    "import random\n",
    "import numpy as np\n",
    "\n",
    "# Function to create the random binary string \n",
    "def rand_key(p): \n",
    "\t\n",
    "\t# Variable to store the string \n",
    "\tkey1 = []\n",
    "\n",
    "\t# Loop to find the string of desired length \n",
    "\tfor i in range(p): \n",
    "\t\t\n",
    "\t\t# randint function to generate \n",
    "\t\t# 0, 1 randomly and converting the result into str \n",
    "\t\ttemp = str(random.randint(0,1)) \n",
    "\n",
    "\t\t# Concatenation the random 0, 1 to the final result \n",
    "\t\tkey1 += temp \n",
    "\t\t\n",
    "\treturn(key1)\n",
    "\n",
    "# Driver Code \n",
    "n = 3\n",
    "str1 = rand_key(n) \n",
    "print(\"Desired length random binary string is: \", str1) "
   ]
  },
  {
   "cell_type": "code",
   "execution_count": 3,
   "metadata": {},
   "outputs": [
    {
     "output_type": "execute_result",
     "data": {
      "text/plain": [
       "'byte = []\\n\\nn = int(input(\"number of digits: \"))\\nfor i in range(0,n):\\n    ele = int(input())\\n\\n    byte.append(ele)\\n\\nprint(byte)'"
      ]
     },
     "metadata": {},
     "execution_count": 3
    }
   ],
   "source": [
    "\"\"\"byte = []\n",
    "\n",
    "n = int(input(\"number of digits: \"))\n",
    "for i in range(0,n):\n",
    "    ele = int(input())\n",
    "\n",
    "    byte.append(ele)\n",
    "\n",
    "print(byte)\"\"\""
   ]
  },
  {
   "cell_type": "code",
   "execution_count": 4,
   "metadata": {},
   "outputs": [],
   "source": [
    "#state of particles\n",
    "\n",
    "down = np.array([[0], [1]])\n",
    "up = np.array([[1], [0]])"
   ]
  },
  {
   "cell_type": "code",
   "execution_count": 5,
   "metadata": {},
   "outputs": [],
   "source": [
    "#change up state in v+, v-\n",
    "x = np.where((up==0) | (up==1), up^1, up)"
   ]
  },
  {
   "cell_type": "code",
   "execution_count": 6,
   "metadata": {},
   "outputs": [],
   "source": [
    "#change up state in u+, u- && down state in u-\n",
    "def convert(lst):\n",
    "    return [-i for i in lst]"
   ]
  },
  {
   "cell_type": "code",
   "execution_count": 7,
   "metadata": {},
   "outputs": [],
   "source": [
    "#change down state in v-\n",
    "x = np.where((down==0) | (down==1), down^1, down)"
   ]
  },
  {
   "cell_type": "code",
   "execution_count": 8,
   "metadata": {},
   "outputs": [],
   "source": [
    "#change down state in v+\n",
    "x = np.where((down==0) | (down==1), down^1, down)\n",
    "def convert(lst):\n",
    "    return [-i for i in lst]"
   ]
  },
  {
   "cell_type": "code",
   "execution_count": 9,
   "metadata": {},
   "outputs": [],
   "source": [
    "#change down state in u+\n",
    "from copy import deepcopy\n",
    "a = deepcopy(down)"
   ]
  },
  {
   "cell_type": "code",
   "execution_count": 53,
   "metadata": {},
   "outputs": [
    {
     "output_type": "stream",
     "name": "stdout",
     "text": [
      "Random string is: badccaccab\n"
     ]
    }
   ],
   "source": [
    "#working on conditional statements\n",
    "\n",
    "str_len = 10\n",
    "sample_letters = 'abcd'\n",
    "result_str = ''.join((random.choice(sample_letters) for i in range(str_len)))\n",
    "\n",
    "print(\"Random string is:\", result_str)"
   ]
  },
  {
   "cell_type": "code",
   "execution_count": 56,
   "metadata": {},
   "outputs": [
    {
     "output_type": "stream",
     "name": "stdout",
     "text": [
      "['d', 'c', 'b', 'a', 'd', 'c', 'b', 'c', 'c', 'd']\n"
     ]
    },
    {
     "output_type": "execute_result",
     "data": {
      "text/plain": [
       "True"
      ]
     },
     "metadata": {},
     "execution_count": 56
    }
   ],
   "source": [
    "equal_to = {\"a\":\"u_plus\", \"b\":\"u_minus\", \"c\":\"v_plus\", \"d\":\"v_minus\"}\n",
    "\n",
    "\n",
    "tmplist = []\n",
    "for _ in range(str_len):\n",
    "    p1 = random.choice(sample_letters)\n",
    "    tmplist.append(p1)\n",
    "print(tmplist)"
   ]
  },
  {
   "cell_type": "code",
   "execution_count": 12,
   "metadata": {},
   "outputs": [
    {
     "output_type": "error",
     "ename": "IndentationError",
     "evalue": "expected an indented block (<ipython-input-12-cc4a64cd3508>, line 4)",
     "traceback": [
      "\u001b[1;36m  File \u001b[1;32m\"<ipython-input-12-cc4a64cd3508>\"\u001b[1;36m, line \u001b[1;32m4\u001b[0m\n\u001b[1;33m    \u001b[0m\n\u001b[1;37m    ^\u001b[0m\n\u001b[1;31mIndentationError\u001b[0m\u001b[1;31m:\u001b[0m expected an indented block\n"
     ]
    }
   ],
   "source": [
    "stored_value = []\n",
    "while key != \"b\":\n",
    "    result_str[]"
   ]
  }
 ]
}