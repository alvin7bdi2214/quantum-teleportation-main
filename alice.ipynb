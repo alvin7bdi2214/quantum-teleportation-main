{
 "metadata": {
  "language_info": {
   "codemirror_mode": {
    "name": "ipython",
    "version": 3
   },
   "file_extension": ".py",
   "mimetype": "text/x-python",
   "name": "python",
   "nbconvert_exporter": "python",
   "pygments_lexer": "ipython3",
   "version": "3.7.4-final"
  },
  "orig_nbformat": 2,
  "kernelspec": {
   "name": "Python 3.7.4 64-bit (conda)",
   "display_name": "Python 3.7.4 64-bit (conda)",
   "metadata": {
    "interpreter": {
     "hash": "7619e392bf5add73cfb180f7a7ac8e13228e30563da53b10706ece27520467dd"
    }
   }
  }
 },
 "nbformat": 4,
 "nbformat_minor": 2,
 "cells": [
  {
   "cell_type": "code",
   "execution_count": null,
   "metadata": {},
   "outputs": [],
   "source": [
    "#reference\n",
    "\n",
    "\"\"\"def fn1():\n",
    "    print \"One\"\n",
    "\n",
    "def fn2():\n",
    "    print \"Two\"\n",
    "\n",
    "def fn3():\n",
    "    print \"Three\"\n",
    "\n",
    "fndict = {\"A\": fn1, \"B\": fn2, \"C\": fn3}\n",
    "\n",
    "keynames = [\"A\", \"B\", \"C\"]\n",
    "\n",
    "fndict[keynames[1]]()\"\"\"\n",
    "# keynames[1] = \"B\", so output of this code is\n",
    "\n",
    "# Two"
   ]
  },
  {
   "cell_type": "code",
   "execution_count": 1,
   "metadata": {},
   "outputs": [
    {
     "output_type": "stream",
     "name": "stdout",
     "text": [
      "Desired length random binary string is:  ['1', '1', '1', '1', '1', '1', '0', '0']\n"
     ]
    }
   ],
   "source": [
    "import random\n",
    "import numpy as np\n",
    "\n",
    "# Function to create the random binary string \n",
    "def rand_key(p): \n",
    "\t\n",
    "\t# Variable to store the string \n",
    "\tkey1 = []\n",
    "\n",
    "\t# Loop to find the string of desired length \n",
    "\tfor i in range(p): \n",
    "\t\t\n",
    "\t\t# randint function to generate \n",
    "\t\t# 0, 1 randomly and converting the result into str \n",
    "\t\ttemp = str(random.randint(0,1)) \n",
    "\n",
    "\t\t# Concatenation the random 0, 1 to the final result \n",
    "\t\tkey1 += temp \n",
    "\t\t\n",
    "\treturn(key1)\n",
    "\n",
    "# Driver Code \n",
    "n = 8\n",
    "str1 = rand_key(n) \n",
    "print(\"Desired length random binary string is: \", str1) "
   ]
  },
  {
   "cell_type": "code",
   "execution_count": null,
   "metadata": {},
   "outputs": [],
   "source": [
    "#user input binary string\n",
    "\n",
    "\"\"\"\n",
    "byte = []\n",
    "\n",
    "n = int(input(\"number of digits: \"))\n",
    "for i in range(0,n):\n",
    "    ele = int(input())\n",
    "\n",
    "    byte.append(ele)\n",
    "\n",
    "print(byte)\n",
    "\"\"\""
   ]
  },
  {
   "cell_type": "code",
   "execution_count": null,
   "metadata": {},
   "outputs": [],
   "source": [
    "#state of particles\n",
    "\"\"\"\n",
    "down = np.array([[0], [1]])\n",
    "up = np.array([[1], [0]])\n",
    "\"\"\""
   ]
  },
  {
   "cell_type": "code",
   "execution_count": null,
   "metadata": {},
   "outputs": [],
   "source": [
    "#change up state in v+, v-\n",
    "#x = np.where((up==0) | (up==1), up^1, up)"
   ]
  },
  {
   "cell_type": "code",
   "execution_count": null,
   "metadata": {},
   "outputs": [],
   "source": [
    "#change up state in u+, u- && down state in u-\n",
    "\"\"\"\n",
    "def convert(lst):\n",
    "    return [-i for i in lst]\n",
    "    \"\"\""
   ]
  },
  {
   "cell_type": "code",
   "execution_count": null,
   "metadata": {},
   "outputs": [],
   "source": [
    "#change down state in v-\n",
    "\"\"\"x = np.where((down==0) | (down==1), down^1, down)\"\"\""
   ]
  },
  {
   "cell_type": "code",
   "execution_count": null,
   "metadata": {},
   "outputs": [],
   "source": [
    "#change down state in v+\n",
    "\"\"\"\n",
    "x = np.where((down==0) | (down==1), down^1, down)\n",
    "def convert(lst):\n",
    "    return [-i for i in lst]\n",
    "    \"\"\""
   ]
  },
  {
   "cell_type": "code",
   "execution_count": null,
   "metadata": {},
   "outputs": [],
   "source": [
    "#change down state in u+\n",
    "\"\"\"\n",
    "from copy import deepcopy\n",
    "a = deepcopy(down)\n",
    "\"\"\""
   ]
  },
  {
   "cell_type": "code",
   "execution_count": null,
   "metadata": {},
   "outputs": [],
   "source": [
    "#list with a certain length of str_len\n",
    "\"\"\"\n",
    "str_len = 8\n",
    "sample_letters = 'abcd'\n",
    "result_str = ''.join((random.choice(sample_letters) for i in range(str_len)))\n",
    "\n",
    "print(\"Random string is:\", result_str)\n",
    "\"\"\""
   ]
  },
  {
   "cell_type": "code",
   "execution_count": null,
   "metadata": {},
   "outputs": [],
   "source": [
    "from operator import itemgetter\n",
    "\n",
    "equal_to = {\"a\":\"u_plus\", \"b\":\"u_minus\", \"c\":\"v_plus\", \"d\":\"v_minus\"}\n",
    "\n",
    "\n",
    "def find_epr_state():\n",
    "    \n",
    "    sample_letters = 'abcd'\n",
    "    count = 0\n",
    "    tmplist2 = []\n",
    "\n",
    "    while True:\n",
    "        attempt = random.choice(sample_letters)\n",
    "        tmplist2.append(attempt)\n",
    "\n",
    "        if attempt == \"b\":\n",
    "            break\n",
    "\n",
    "        count += 1\n",
    "\n",
    "    return tmplist2\n",
    "\n",
    "    #print(tmplist2)\n",
    "    #print(\"EPR state occurs after \" + str(count) + \" attempt(s).\")\n",
    "\n",
    "    #res_list = list(itemgetter(*tmplist2)(equal_to))\n",
    "    #print(str(res_list))"
   ]
  },
  {
   "cell_type": "code",
   "execution_count": null,
   "metadata": {},
   "outputs": [],
   "source": [
    "#create logic gate\n",
    "#group object, use return https://realpython.com/python-return-statement/\n",
    "def eval(alice, epr):\n",
    "    if (alice == 1 and epr == \"a\"):\n",
    "        return 1  \n",
    "    elif (alice == 1 and epr == \"b\"):\n",
    "        return 1 \n",
    "    elif (alice == 0 and epr == \"c\"):\n",
    "        return 1 \n",
    "    elif (alice == 0 and epr == \"d\"):\n",
    "        return 1\n",
    "    elif (alice == 1 and epr == \"c\"):\n",
    "        return 0 \n",
    "    elif (alice == 1 and epr == \"d\"):\n",
    "        return 0\n",
    "    elif (alice == 0 and epr == \"a\"):\n",
    "        return 0\n",
    "    elif (alice == 0 and epr == \"b\"):\n",
    "        return 0"
   ]
  },
  {
   "cell_type": "code",
   "execution_count": null,
   "metadata": {},
   "outputs": [],
   "source": [
    "for_bob = []\n",
    "\n",
    "while n <= 8:\n",
    "    rand_key(8)\n",
    "    find_epr_state()\n",
    "    e1 = eval(str1, find_epr_state())\n",
    "    for_bob.append(e1)\n",
    "print(for_bob)"
   ]
  },
  {
   "cell_type": "code",
   "execution_count": null,
   "metadata": {},
   "outputs": [],
   "source": []
  }
 ]
}